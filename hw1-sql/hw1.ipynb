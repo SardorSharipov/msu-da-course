{
 "cells": [
  {
   "cell_type": "markdown",
   "id": "69e97db3",
   "metadata": {},
   "source": [
    "# 0. Введение\n",
    "Сейчас мы находимся в jupyter-ноутбуке (или ipython-ноутбуке). Это удобная среда для написания кода, проведения экспериментов, изучения данных, построения визуализаций и других нужд, не связанных с написанием production-кода.\n",
    "\n",
    "Ноутбук состоит из ячеек, каждая из которых может быть либо ячейкой с кодом, либо ячейкой с текстом размеченным и неразмеченным. Текст поддерживает markdown-разметку и формулы в Latex.\n",
    "\n",
    "Для работы с содержимым ячейки используется режим редактирования (Edit mode, включается нажатием клавиши Enter после выбора ячейки), а для навигации между ячейками искользуется командный режим (Command mode, включается нажатием клавиши Esc). Тип ячейки можно задать в командном режиме либо с помощью горячих клавиш (y to code, m to markdown, r to edit raw text), либо в меню Cell -> Cell type.\n",
    "\n",
    "После заполнения ячейки нужно нажать Shift + Enter, эта команда обработает содержимое ячейки: проинтерпретирует код или сверстает размеченный текст."
   ]
  },
  {
   "cell_type": "markdown",
   "id": "ee88a894",
   "metadata": {},
   "source": [
    "# 1. Устанавка библиотек\n",
    "`! pip install` - это команда позволит нам установить нужные библиотеки.  \n",
    "В данном случае, `ipython-sql`,  `prettytable` нужны чтобы легко могли писать `sql` запросы, без каких либо оберток"
   ]
  },
  {
   "cell_type": "code",
   "execution_count": 1,
   "id": "e6f49db0-3cd6-4735-b370-5356dbbe28d1",
   "metadata": {},
   "outputs": [
    {
     "name": "stdout",
     "output_type": "stream",
     "text": [
      "Requirement already satisfied: ipython-sql in /opt/anaconda3/lib/python3.11/site-packages (0.5.0)\n",
      "Requirement already satisfied: prettytable==0.7.2 in /opt/anaconda3/lib/python3.11/site-packages (0.7.2)\n",
      "Requirement already satisfied: ipython in /opt/anaconda3/lib/python3.11/site-packages (from ipython-sql) (8.20.0)\n",
      "Requirement already satisfied: sqlalchemy>=2.0 in /opt/anaconda3/lib/python3.11/site-packages (from ipython-sql) (2.0.25)\n",
      "Requirement already satisfied: sqlparse in /opt/anaconda3/lib/python3.11/site-packages (from ipython-sql) (0.5.3)\n",
      "Requirement already satisfied: six in /opt/anaconda3/lib/python3.11/site-packages (from ipython-sql) (1.16.0)\n",
      "Requirement already satisfied: ipython-genutils in /opt/anaconda3/lib/python3.11/site-packages (from ipython-sql) (0.2.0)\n",
      "Requirement already satisfied: typing-extensions>=4.6.0 in /opt/anaconda3/lib/python3.11/site-packages (from sqlalchemy>=2.0->ipython-sql) (4.9.0)\n",
      "Requirement already satisfied: decorator in /opt/anaconda3/lib/python3.11/site-packages (from ipython->ipython-sql) (5.1.1)\n",
      "Requirement already satisfied: jedi>=0.16 in /opt/anaconda3/lib/python3.11/site-packages (from ipython->ipython-sql) (0.18.1)\n",
      "Requirement already satisfied: matplotlib-inline in /opt/anaconda3/lib/python3.11/site-packages (from ipython->ipython-sql) (0.1.6)\n",
      "Requirement already satisfied: prompt-toolkit<3.1.0,>=3.0.41 in /opt/anaconda3/lib/python3.11/site-packages (from ipython->ipython-sql) (3.0.43)\n",
      "Requirement already satisfied: pygments>=2.4.0 in /opt/anaconda3/lib/python3.11/site-packages (from ipython->ipython-sql) (2.15.1)\n",
      "Requirement already satisfied: stack-data in /opt/anaconda3/lib/python3.11/site-packages (from ipython->ipython-sql) (0.2.0)\n",
      "Requirement already satisfied: traitlets>=5 in /opt/anaconda3/lib/python3.11/site-packages (from ipython->ipython-sql) (5.7.1)\n",
      "Requirement already satisfied: pexpect>4.3 in /opt/anaconda3/lib/python3.11/site-packages (from ipython->ipython-sql) (4.8.0)\n",
      "Requirement already satisfied: parso<0.9.0,>=0.8.0 in /opt/anaconda3/lib/python3.11/site-packages (from jedi>=0.16->ipython->ipython-sql) (0.8.3)\n",
      "Requirement already satisfied: ptyprocess>=0.5 in /opt/anaconda3/lib/python3.11/site-packages (from pexpect>4.3->ipython->ipython-sql) (0.7.0)\n",
      "Requirement already satisfied: wcwidth in /opt/anaconda3/lib/python3.11/site-packages (from prompt-toolkit<3.1.0,>=3.0.41->ipython->ipython-sql) (0.2.5)\n",
      "Requirement already satisfied: executing in /opt/anaconda3/lib/python3.11/site-packages (from stack-data->ipython->ipython-sql) (0.8.3)\n",
      "Requirement already satisfied: asttokens in /opt/anaconda3/lib/python3.11/site-packages (from stack-data->ipython->ipython-sql) (2.0.5)\n",
      "Requirement already satisfied: pure-eval in /opt/anaconda3/lib/python3.11/site-packages (from stack-data->ipython->ipython-sql) (0.2.2)\n"
     ]
    }
   ],
   "source": [
    "! pip install ipython-sql prettytable==0.7.2"
   ]
  },
  {
   "cell_type": "markdown",
   "id": "6d690c42",
   "metadata": {},
   "source": [
    "# Включение магической функции `sql`"
   ]
  },
  {
   "cell_type": "code",
   "execution_count": 2,
   "id": "d1c66e99-a3b7-4342-bcfa-c8ede2045392",
   "metadata": {},
   "outputs": [],
   "source": [
    "%load_ext sql\n",
    "%reload_ext sql"
   ]
  },
  {
   "cell_type": "markdown",
   "id": "60610cda",
   "metadata": {},
   "source": [
    "# Подключение к БД\n",
    "Будем работать с диалектом `SQLite`, `SQLite` -  компактная встраиваемая СУБД, для него не стоить отдельный сервер поднимать, поэтому к нему проще всего подключиться)  \n",
    "Ниже в картинке указана база данных `Northwind`, представляет простую схему для управления клиентами малого бизнеса, заказами, запасами, закупками, поставщиками, доставкой и сотрудниками  \n",
    "Что стоит обратить в схеме\n",
    "* Название таблицы (`Orders`, `Customers`, и так далее)\n",
    "* Ключ таблицы (`OrderId`, `CustomerId`), заметьте, в некоторых таблицах (`OrderDetails`), 2 основных ключа (`OrderId`, `ProductId`), это значит что запись уникальная по этим колонкам. Примере, в заказе `OrderId` может быть несколько продуктов `ProductId`\n",
    "* Каждой колонке указан тип данных, пример `nvarchar(20)` означает, что колонка содержит строке не длиннее 20 символов\n",
    "* Также есть тип колонки `Nullable`, он означает что в записи данная колонка может иметь значение или может не иметь \n",
    "\n",
    "Типичные диаграммы называют - ERD диаграммой, https://www.lucidchart.com/pages/ru/erd-diagram"
   ]
  },
  {
   "cell_type": "markdown",
   "id": "78e60fa3",
   "metadata": {},
   "source": [
    "![База данных](Northwind_ERD.png)"
   ]
  },
  {
   "cell_type": "code",
   "execution_count": 3,
   "id": "1ae8833c-3c7d-41ef-9627-a53580616c1d",
   "metadata": {},
   "outputs": [],
   "source": [
    "%sql sqlite:///northwind.db\n",
    "%config SqlMagic.style = 'DEFAULT'"
   ]
  },
  {
   "cell_type": "markdown",
   "id": "0e6a5008",
   "metadata": {},
   "source": [
    "# Пример работы с данными\n",
    "Хотим вывести 10 случайных заказов"
   ]
  },
  {
   "cell_type": "code",
   "execution_count": 4,
   "id": "aa824773-3134-423a-bf8f-21a95a09cdf8",
   "metadata": {},
   "outputs": [
    {
     "name": "stdout",
     "output_type": "stream",
     "text": [
      " * sqlite:///northwind.db\n",
      "Done.\n"
     ]
    },
    {
     "data": {
      "text/html": [
       "<table>\n",
       "    <tr>\n",
       "        <th>OrderID</th>\n",
       "        <th>CustomerID</th>\n",
       "        <th>EmployeeID</th>\n",
       "        <th>OrderDate</th>\n",
       "        <th>RequiredDate</th>\n",
       "        <th>ShippedDate</th>\n",
       "        <th>ShipVia</th>\n",
       "        <th>Freight</th>\n",
       "        <th>ShipName</th>\n",
       "        <th>ShipAddress</th>\n",
       "        <th>ShipCity</th>\n",
       "        <th>ShipRegion</th>\n",
       "        <th>ShipPostalCode</th>\n",
       "        <th>ShipCountry</th>\n",
       "    </tr>\n",
       "    <tr>\n",
       "        <td>10248</td>\n",
       "        <td>VINET</td>\n",
       "        <td>5</td>\n",
       "        <td>2016-07-04</td>\n",
       "        <td>2016-08-01</td>\n",
       "        <td>2016-07-16</td>\n",
       "        <td>3</td>\n",
       "        <td>16.75</td>\n",
       "        <td>Vins et alcools Chevalier</td>\n",
       "        <td>59 rue de l-Abbaye</td>\n",
       "        <td>Reims</td>\n",
       "        <td>Western Europe</td>\n",
       "        <td>51100</td>\n",
       "        <td>France</td>\n",
       "    </tr>\n",
       "    <tr>\n",
       "        <td>10249</td>\n",
       "        <td>TOMSP</td>\n",
       "        <td>6</td>\n",
       "        <td>2016-07-05</td>\n",
       "        <td>2016-08-16</td>\n",
       "        <td>2016-07-10</td>\n",
       "        <td>1</td>\n",
       "        <td>22.25</td>\n",
       "        <td>Toms Spezialitäten</td>\n",
       "        <td>Luisenstr. 48</td>\n",
       "        <td>Münster</td>\n",
       "        <td>Western Europe</td>\n",
       "        <td>44087</td>\n",
       "        <td>Germany</td>\n",
       "    </tr>\n",
       "    <tr>\n",
       "        <td>10250</td>\n",
       "        <td>HANAR</td>\n",
       "        <td>4</td>\n",
       "        <td>2016-07-08</td>\n",
       "        <td>2016-08-05</td>\n",
       "        <td>2016-07-12</td>\n",
       "        <td>2</td>\n",
       "        <td>25</td>\n",
       "        <td>Hanari Carnes</td>\n",
       "        <td>Rua do Paço, 67</td>\n",
       "        <td>Rio de Janeiro</td>\n",
       "        <td>South America</td>\n",
       "        <td>05454-876</td>\n",
       "        <td>Brazil</td>\n",
       "    </tr>\n",
       "    <tr>\n",
       "        <td>10251</td>\n",
       "        <td>VICTE</td>\n",
       "        <td>3</td>\n",
       "        <td>2016-07-08</td>\n",
       "        <td>2016-08-05</td>\n",
       "        <td>2016-07-15</td>\n",
       "        <td>1</td>\n",
       "        <td>20.25</td>\n",
       "        <td>Victuailles en stock</td>\n",
       "        <td>2, rue du Commerce</td>\n",
       "        <td>Lyon</td>\n",
       "        <td>Western Europe</td>\n",
       "        <td>69004</td>\n",
       "        <td>France</td>\n",
       "    </tr>\n",
       "    <tr>\n",
       "        <td>10252</td>\n",
       "        <td>SUPRD</td>\n",
       "        <td>4</td>\n",
       "        <td>2016-07-09</td>\n",
       "        <td>2016-08-06</td>\n",
       "        <td>2016-07-11</td>\n",
       "        <td>2</td>\n",
       "        <td>36.25</td>\n",
       "        <td>Suprêmes délices</td>\n",
       "        <td>Boulevard Tirou, 255</td>\n",
       "        <td>Charleroi</td>\n",
       "        <td>Western Europe</td>\n",
       "        <td>B-6000</td>\n",
       "        <td>Belgium</td>\n",
       "    </tr>\n",
       "    <tr>\n",
       "        <td>10253</td>\n",
       "        <td>HANAR</td>\n",
       "        <td>3</td>\n",
       "        <td>2016-07-10</td>\n",
       "        <td>2016-07-24</td>\n",
       "        <td>2016-07-16</td>\n",
       "        <td>2</td>\n",
       "        <td>35.5</td>\n",
       "        <td>Hanari Carnes</td>\n",
       "        <td>Rua do Paço, 67</td>\n",
       "        <td>Rio de Janeiro</td>\n",
       "        <td>South America</td>\n",
       "        <td>05454-876</td>\n",
       "        <td>Brazil</td>\n",
       "    </tr>\n",
       "    <tr>\n",
       "        <td>10254</td>\n",
       "        <td>CHOPS</td>\n",
       "        <td>5</td>\n",
       "        <td>2016-07-11</td>\n",
       "        <td>2016-08-08</td>\n",
       "        <td>2016-07-23</td>\n",
       "        <td>2</td>\n",
       "        <td>24.25</td>\n",
       "        <td>Chop-suey Chinese</td>\n",
       "        <td>Hauptstr. 31</td>\n",
       "        <td>Bern</td>\n",
       "        <td>Western Europe</td>\n",
       "        <td>3012</td>\n",
       "        <td>Switzerland</td>\n",
       "    </tr>\n",
       "    <tr>\n",
       "        <td>10255</td>\n",
       "        <td>RICSU</td>\n",
       "        <td>9</td>\n",
       "        <td>2016-07-12</td>\n",
       "        <td>2016-08-09</td>\n",
       "        <td>2016-07-15</td>\n",
       "        <td>3</td>\n",
       "        <td>37.5</td>\n",
       "        <td>Richter Supermarkt</td>\n",
       "        <td>Starenweg 5</td>\n",
       "        <td>Genève</td>\n",
       "        <td>Western Europe</td>\n",
       "        <td>1204</td>\n",
       "        <td>Switzerland</td>\n",
       "    </tr>\n",
       "    <tr>\n",
       "        <td>10256</td>\n",
       "        <td>WELLI</td>\n",
       "        <td>3</td>\n",
       "        <td>2016-07-15</td>\n",
       "        <td>2016-08-12</td>\n",
       "        <td>2016-07-17</td>\n",
       "        <td>2</td>\n",
       "        <td>16.75</td>\n",
       "        <td>Wellington Importadora</td>\n",
       "        <td>Rua do Mercado, 12</td>\n",
       "        <td>Resende</td>\n",
       "        <td>South America</td>\n",
       "        <td>08737-363</td>\n",
       "        <td>Brazil</td>\n",
       "    </tr>\n",
       "    <tr>\n",
       "        <td>10257</td>\n",
       "        <td>HILAA</td>\n",
       "        <td>4</td>\n",
       "        <td>2016-07-16</td>\n",
       "        <td>2016-08-13</td>\n",
       "        <td>2016-07-22</td>\n",
       "        <td>3</td>\n",
       "        <td>21.5</td>\n",
       "        <td>HILARION-Abastos</td>\n",
       "        <td>Carrera 22 con Ave. Carlos Soublette #8-35</td>\n",
       "        <td>San Cristóbal</td>\n",
       "        <td>South America</td>\n",
       "        <td>5022</td>\n",
       "        <td>Venezuela</td>\n",
       "    </tr>\n",
       "</table>"
      ],
      "text/plain": [
       "[(10248, 'VINET', 5, '2016-07-04', '2016-08-01', '2016-07-16', 3, 16.75, 'Vins et alcools Chevalier', '59 rue de l-Abbaye', 'Reims', 'Western Europe', '51100', 'France'),\n",
       " (10249, 'TOMSP', 6, '2016-07-05', '2016-08-16', '2016-07-10', 1, 22.25, 'Toms Spezialitäten', 'Luisenstr. 48', 'Münster', 'Western Europe', '44087', 'Germany'),\n",
       " (10250, 'HANAR', 4, '2016-07-08', '2016-08-05', '2016-07-12', 2, 25, 'Hanari Carnes', 'Rua do Paço, 67', 'Rio de Janeiro', 'South America', '05454-876', 'Brazil'),\n",
       " (10251, 'VICTE', 3, '2016-07-08', '2016-08-05', '2016-07-15', 1, 20.25, 'Victuailles en stock', '2, rue du Commerce', 'Lyon', 'Western Europe', '69004', 'France'),\n",
       " (10252, 'SUPRD', 4, '2016-07-09', '2016-08-06', '2016-07-11', 2, 36.25, 'Suprêmes délices', 'Boulevard Tirou, 255', 'Charleroi', 'Western Europe', 'B-6000', 'Belgium'),\n",
       " (10253, 'HANAR', 3, '2016-07-10', '2016-07-24', '2016-07-16', 2, 35.5, 'Hanari Carnes', 'Rua do Paço, 67', 'Rio de Janeiro', 'South America', '05454-876', 'Brazil'),\n",
       " (10254, 'CHOPS', 5, '2016-07-11', '2016-08-08', '2016-07-23', 2, 24.25, 'Chop-suey Chinese', 'Hauptstr. 31', 'Bern', 'Western Europe', '3012', 'Switzerland'),\n",
       " (10255, 'RICSU', 9, '2016-07-12', '2016-08-09', '2016-07-15', 3, 37.5, 'Richter Supermarkt', 'Starenweg 5', 'Genève', 'Western Europe', '1204', 'Switzerland'),\n",
       " (10256, 'WELLI', 3, '2016-07-15', '2016-08-12', '2016-07-17', 2, 16.75, 'Wellington Importadora', 'Rua do Mercado, 12', 'Resende', 'South America', '08737-363', 'Brazil'),\n",
       " (10257, 'HILAA', 4, '2016-07-16', '2016-08-13', '2016-07-22', 3, 21.5, 'HILARION-Abastos', 'Carrera 22 con Ave. Carlos Soublette #8-35', 'San Cristóbal', 'South America', '5022', 'Venezuela')]"
      ]
     },
     "execution_count": 4,
     "metadata": {},
     "output_type": "execute_result"
    }
   ],
   "source": [
    "%%sql\n",
    "SELECT \n",
    "    * \n",
    "FROM orders \n",
    "LIMIT 10;"
   ]
  },
  {
   "cell_type": "markdown",
   "id": "957d733d",
   "metadata": {},
   "source": [
    "# Полезные ссылки, которые помогут решить ДЗ\n",
    "Тут все про синтаксис работы `SQLite` - https://www.sqlitetutorial.net/sqlite-functions/\n",
    "Что понадобится в ДЗ?\n",
    "* `SELECT`, `FROM` - база\n",
    "* `LIMIT` - выводит определенное кол-во строк\n",
    "* `DISTINCT` - выводит уникальные строки по полю\n",
    "* `ORDER BY` - сортирует строки\n",
    "* `WHERE` - фильтрация строк\n",
    "* `GROUP BY`\n",
    "* `AS` - нужно чтобы переименовать колонку/таблицу\n",
    "* `MIN`, `MAX`, `SUM`, `AVG`, `COUNT` - группировки (мин, макс, сумма, среднее, кол-во)\n",
    "* `ROUND(number, 2)` - округляет кол-во цифр после запятой \n",
    "* `DATE(date_column, 'start of month')` - приводит дату `2024-01-05` к первому дня месяца `2024-01-01`\n",
    "* `DATE(date_column, 'start of year')` - приводит дату `2024-01-05` к первому дня года `2024-01-01` \n",
    "* `CAST(column AS INT)` - приводит колонку к какому то типу\n",
    "* `INNER JOIN` `LEFT JOINT` - нужно чтобы соединить по какому то правилу две таблицы"
   ]
  },
  {
   "cell_type": "markdown",
   "id": "0f4ea336",
   "metadata": {},
   "source": [
    "# Задача 0\n",
    "Нужно вывести топ 5 городов пользователей, которые совершили заказы в 2016 году"
   ]
  },
  {
   "cell_type": "code",
   "execution_count": 5,
   "id": "421c0db4-fa61-4273-b44e-347fbe2841bc",
   "metadata": {},
   "outputs": [
    {
     "name": "stdout",
     "output_type": "stream",
     "text": [
      " * sqlite:///northwind.db\n",
      "Done.\n"
     ]
    },
    {
     "data": {
      "text/html": [
       "<table>\n",
       "    <tr>\n",
       "        <th>order_year</th>\n",
       "        <th>city</th>\n",
       "        <th>cnt</th>\n",
       "        <th>distinct_customer</th>\n",
       "    </tr>\n",
       "    <tr>\n",
       "        <td>2016-01-01</td>\n",
       "        <td>London</td>\n",
       "        <td>89</td>\n",
       "        <td>6</td>\n",
       "    </tr>\n",
       "    <tr>\n",
       "        <td>2016-01-01</td>\n",
       "        <td>México D.F.</td>\n",
       "        <td>86</td>\n",
       "        <td>5</td>\n",
       "    </tr>\n",
       "    <tr>\n",
       "        <td>2016-01-01</td>\n",
       "        <td>Sao Paulo</td>\n",
       "        <td>65</td>\n",
       "        <td>4</td>\n",
       "    </tr>\n",
       "    <tr>\n",
       "        <td>2016-01-01</td>\n",
       "        <td>Madrid</td>\n",
       "        <td>56</td>\n",
       "        <td>3</td>\n",
       "    </tr>\n",
       "    <tr>\n",
       "        <td>2016-01-01</td>\n",
       "        <td>Rio de Janeiro</td>\n",
       "        <td>53</td>\n",
       "        <td>3</td>\n",
       "    </tr>\n",
       "</table>"
      ],
      "text/plain": [
       "[('2016-01-01', 'London', 89, 6),\n",
       " ('2016-01-01', 'México D.F.', 86, 5),\n",
       " ('2016-01-01', 'Sao Paulo', 65, 4),\n",
       " ('2016-01-01', 'Madrid', 56, 3),\n",
       " ('2016-01-01', 'Rio de Janeiro', 53, 3)]"
      ]
     },
     "execution_count": 5,
     "metadata": {},
     "output_type": "execute_result"
    }
   ],
   "source": [
    "%%sql\n",
    "-- здесь код\n",
    "SELECT\n",
    "    DATE(orders.orderDate, 'start of year') AS order_year, -- можно было без этого, но просто хотел показать как работает функция\n",
    "    customers.city                          AS city,  -- города пользователей\n",
    "    COUNT(*)                                AS cnt, -- кол-во заказов\n",
    "    COUNT(DISTINCT orders.customerID)       AS distinct_customer -- кол-во уникальных пользователей\n",
    "FROM orders\n",
    "    INNER JOIN customers\n",
    "        ON customers.customerId = orders.customerId\n",
    "WHERE orderDate >= '2016-01-01' AND orderDate < '2017-01-01' -- фильтруем даты (2016 год), '2016-01-01' автоматически переведется в тип DATE\n",
    "GROUP BY 1, 2-- это говорит о том что, нужно группировать по 1, 2 колонке\n",
    "ORDER BY 3 DESC -- это говорит о том что, нужно сортировать по 3 колонке\n",
    "LIMIT 5 -- выводим 5 записей"
   ]
  },
  {
   "cell_type": "markdown",
   "id": "b3f4e4af",
   "metadata": {},
   "source": [
    "# Каждое задание имеет вес 1 балл"
   ]
  },
  {
   "cell_type": "markdown",
   "id": "0b00db39",
   "metadata": {},
   "source": [
    "# Задание 1\n",
    "(Это все один запрос)\n",
    "* Выведите столбцы (`productId`, `productName`, `unitPrice`) из таблицы `products`\n",
    "* Переименуйте поле `productName` в `product_name`\n",
    "* Отсортируйте по ключу `productId`\n",
    "* Ограничьтесь результатам 10 строк\n",
    "\n",
    "Ответ:\n",
    "<img src='result_images/task_1.png' alt='Описание' width='300' height='200'>\n"
   ]
  },
  {
   "cell_type": "code",
   "execution_count": 6,
   "id": "cf18af1c",
   "metadata": {},
   "outputs": [
    {
     "name": "stdout",
     "output_type": "stream",
     "text": [
      " * sqlite:///northwind.db\n",
      "Done.\n"
     ]
    },
    {
     "data": {
      "text/plain": [
       "[]"
      ]
     },
     "execution_count": 6,
     "metadata": {},
     "output_type": "execute_result"
    }
   ],
   "source": [
    "%%sql\n",
    "-- ваш код тут (это просто комментарий)\n"
   ]
  },
  {
   "cell_type": "markdown",
   "id": "d5b3fc69",
   "metadata": {},
   "source": [
    "# Задание 2\n",
    "Выведите столбцы `CustomerID`, `CompanyName` и `City` из таблицы `Customers` для клиентов, у которых город (`City`) равен `'London'`. Отсортируйте результат по `CompanyName` в алфавитном порядке\n",
    "\n",
    "Ответ:  \n",
    "<img src='result_images/task_2.png' alt='Описание' width='300' height='200'>"
   ]
  },
  {
   "cell_type": "code",
   "execution_count": 7,
   "id": "9057506a",
   "metadata": {},
   "outputs": [
    {
     "name": "stdout",
     "output_type": "stream",
     "text": [
      " * sqlite:///northwind.db\n",
      "Done.\n"
     ]
    },
    {
     "data": {
      "text/plain": [
       "[]"
      ]
     },
     "execution_count": 7,
     "metadata": {},
     "output_type": "execute_result"
    }
   ],
   "source": [
    "%%sql\n",
    "-- ваш код тут\n"
   ]
  },
  {
   "cell_type": "markdown",
   "id": "7553c331",
   "metadata": {},
   "source": [
    "# Задание 3\n",
    "Выберите все столбцы из таблицы `Products` и отсортируйте товары по цене `UnitPrice` по убыванию. Отобразите только первые 5 записей\n",
    "\n",
    "Ответ:  \n",
    "<img src='result_images/task_3.png' alt='Описание' width='800' height='200'>"
   ]
  },
  {
   "cell_type": "code",
   "execution_count": 8,
   "id": "79f314e5",
   "metadata": {},
   "outputs": [
    {
     "name": "stdout",
     "output_type": "stream",
     "text": [
      " * sqlite:///northwind.db\n",
      "Done.\n"
     ]
    },
    {
     "data": {
      "text/plain": [
       "[]"
      ]
     },
     "execution_count": 8,
     "metadata": {},
     "output_type": "execute_result"
    }
   ],
   "source": [
    "%%sql\n",
    "-- ваш код тут\n"
   ]
  },
  {
   "cell_type": "markdown",
   "id": "60b7d2c8",
   "metadata": {},
   "source": [
    "# Задание 4\n",
    "Подсчитайте, сколько товаров находится в каждой категории `CategoryID` в таблице `Products`. В результате отобразите `CategoryID` и количество товаров в столбце с алиасом (`AS`) `productCnt`, обязательно отсортируйте по `CategoryID`\n",
    "\n",
    "Ответ:  \n",
    "<img src='result_images/task_4.png' alt='Описание' width='200' height='300'>"
   ]
  },
  {
   "cell_type": "code",
   "execution_count": 9,
   "id": "93da3355",
   "metadata": {},
   "outputs": [
    {
     "name": "stdout",
     "output_type": "stream",
     "text": [
      " * sqlite:///northwind.db\n",
      "Done.\n"
     ]
    },
    {
     "data": {
      "text/plain": [
       "[]"
      ]
     },
     "execution_count": 9,
     "metadata": {},
     "output_type": "execute_result"
    }
   ],
   "source": [
    "%%sql\n",
    "-- ваш код тут\n"
   ]
  },
  {
   "cell_type": "markdown",
   "id": "26006dac",
   "metadata": {},
   "source": [
    "# Задание 5\n",
    "Для каждой категории `CategoryID` из таблицы `Products` найдите минимальную, максимальную и среднюю цену товаров (`UnitPrice`). Выведите `CategoryID` и столбцы с алиасами `minPrice`, `maxPrice`, `avgPrice`. Отсортируйте по полю `CategoryId`, также округлите числа до `2` знаков после запятой, вам поможет функция `ROUND`\n",
    "\n",
    "Ответ:  \n",
    "<img src='result_images/task_5.png' alt='Описание' width='400' height='300'>"
   ]
  },
  {
   "cell_type": "code",
   "execution_count": 10,
   "id": "1e8bd120",
   "metadata": {},
   "outputs": [
    {
     "name": "stdout",
     "output_type": "stream",
     "text": [
      " * sqlite:///northwind.db\n",
      "Done.\n"
     ]
    },
    {
     "data": {
      "text/plain": [
       "[]"
      ]
     },
     "execution_count": 10,
     "metadata": {},
     "output_type": "execute_result"
    }
   ],
   "source": [
    "%%sql\n",
    "-- ваш код тут\n"
   ]
  },
  {
   "cell_type": "markdown",
   "id": "de96b44f",
   "metadata": {},
   "source": [
    "# Задание 6\n",
    "* Сгруппируйте заказы (Orders) по первому дню месяца, переименуйте расчет в `monthStart` \n",
    "* Подсчитайте, сколько заказов было сделано в каждом месяце, переименуйте расчет в `ordersCount`\n",
    "* Отсортируйте по `monthStart`\n",
    "* Выведите только первые 10 строк\n",
    "\n",
    "\n",
    "Ответ:  \n",
    "<img src='result_images/task_6.png' alt='Описание' width='300' height='500'>"
   ]
  },
  {
   "cell_type": "code",
   "execution_count": 11,
   "id": "15d81ad3",
   "metadata": {},
   "outputs": [
    {
     "name": "stdout",
     "output_type": "stream",
     "text": [
      " * sqlite:///northwind.db\n",
      "Done.\n"
     ]
    },
    {
     "data": {
      "text/plain": [
       "[]"
      ]
     },
     "execution_count": 11,
     "metadata": {},
     "output_type": "execute_result"
    }
   ],
   "source": [
    "%%sql\n",
    "-- ваш код тут\n",
    "\n"
   ]
  },
  {
   "cell_type": "markdown",
   "id": "e12f64f0",
   "metadata": {},
   "source": [
    "# Задание 7\n",
    "* Аналогично предыдущему, сгруппируйте заказы по первому дню года\n",
    "* Посчитайте количество заказов в каждом году\n",
    "* Выведите столбцы `yearStart` и `ordersCount`\n",
    "\n",
    "\n",
    "Ответ:  \n",
    "<img src='result_images/task_7.png' alt='Описание' width='300' height='500'>"
   ]
  },
  {
   "cell_type": "code",
   "execution_count": 13,
   "id": "13345d69",
   "metadata": {},
   "outputs": [
    {
     "name": "stdout",
     "output_type": "stream",
     "text": [
      " * sqlite:///northwind.db\n",
      "Done.\n"
     ]
    },
    {
     "data": {
      "text/plain": [
       "[]"
      ]
     },
     "execution_count": 13,
     "metadata": {},
     "output_type": "execute_result"
    }
   ],
   "source": [
    "%%sql\n",
    "-- ваш код тут\n",
    "\n"
   ]
  },
  {
   "cell_type": "markdown",
   "id": "eae02fd8",
   "metadata": {},
   "source": [
    "# Задание 8\n",
    "Выведите `ProductID`, `ProductName`, исходную цену (`UnitPrice`) и цену, приведённую к целому числу (нужно функцию `CAST` применить). Приведенный `UnitPrice` выводите как поле `UnitPriceInt`. Отсортируйте по `ProductName` и ограничьте результат 10 строками.\n",
    "\n",
    "Ответ:  \n",
    "<img src='result_images/task_8.png' alt='Описание' width='600' height='500'>"
   ]
  },
  {
   "cell_type": "code",
   "execution_count": 14,
   "id": "1be9f0de",
   "metadata": {},
   "outputs": [
    {
     "name": "stdout",
     "output_type": "stream",
     "text": [
      " * sqlite:///northwind.db\n",
      "Done.\n"
     ]
    },
    {
     "data": {
      "text/plain": [
       "[]"
      ]
     },
     "execution_count": 14,
     "metadata": {},
     "output_type": "execute_result"
    }
   ],
   "source": [
    "%%sql\n",
    "-- ваш код тут\n",
    "\n"
   ]
  },
  {
   "cell_type": "markdown",
   "id": "2f2d456c",
   "metadata": {},
   "source": [
    "# Задание 9\n",
    "Объедините таблицы `Orders` (псевдоним o, используйте `AS`) и `Customers` (псевдоним c) по полю `CustomerID`, чтобы вывести `OrderID`, `CompanyName` и `OrderDate`, `CustomerId`. Отсортируйте по `CustomerID`. Ограничьте вывод 10 строками.\n",
    "\n",
    "Ответ:  \n",
    "<img src='result_images/task_9.png' alt='Описание' width='600' height='600'>"
   ]
  },
  {
   "cell_type": "code",
   "execution_count": 15,
   "id": "7f28a26a",
   "metadata": {},
   "outputs": [
    {
     "name": "stdout",
     "output_type": "stream",
     "text": [
      " * sqlite:///northwind.db\n",
      "Done.\n"
     ]
    },
    {
     "data": {
      "text/plain": [
       "[]"
      ]
     },
     "execution_count": 15,
     "metadata": {},
     "output_type": "execute_result"
    }
   ],
   "source": [
    "%%sql\n",
    "-- ваш код тут\n",
    "\n"
   ]
  },
  {
   "cell_type": "markdown",
   "id": "ad7c9f78",
   "metadata": {},
   "source": [
    "# Задание 10\n",
    "Объедините таблицы `Customers` (псевдоним `c`) и `Orders` (псевдоним `o`), чтобы для каждого города клиентов:  \n",
    "* Подсчитать количество уникальных клиентов.\n",
    "* Подсчитать общее число заказов, сделанных клиентами из этого города.\n",
    "* Выведите столбцы:\n",
    "    * `City` – город клиента\n",
    "    * `CustomersCount` – количество уникальных клиентов в этом городе\n",
    "    * `OrdersCount` – общее количество заказов.\n",
    "* Отсортируйте результат по убыванию количества заказов и ограничьте вывод 10 строками.\n",
    "\n",
    "Ответ:  \n",
    "<img src='result_images/task_10.png' alt='Описание' width='600' height='600'>\n"
   ]
  },
  {
   "cell_type": "code",
   "execution_count": 16,
   "id": "5983d1dd",
   "metadata": {},
   "outputs": [
    {
     "name": "stdout",
     "output_type": "stream",
     "text": [
      " * sqlite:///northwind.db\n",
      "Done.\n"
     ]
    },
    {
     "data": {
      "text/plain": [
       "[]"
      ]
     },
     "execution_count": 16,
     "metadata": {},
     "output_type": "execute_result"
    }
   ],
   "source": [
    "%%sql\n",
    "-- ваш код тут\n",
    "\n"
   ]
  },
  {
   "cell_type": "markdown",
   "id": "841f7da3",
   "metadata": {},
   "source": [
    "# Placeholder для мемной картинки"
   ]
  },
  {
   "cell_type": "markdown",
   "id": "84052085",
   "metadata": {},
   "source": []
  }
 ],
 "metadata": {
  "kernelspec": {
   "display_name": "Python 3",
   "language": "python",
   "name": "python3"
  },
  "language_info": {
   "codemirror_mode": {
    "name": "ipython",
    "version": 3
   },
   "file_extension": ".py",
   "mimetype": "text/x-python",
   "name": "python",
   "nbconvert_exporter": "python",
   "pygments_lexer": "ipython3",
   "version": "3.11.7"
  }
 },
 "nbformat": 4,
 "nbformat_minor": 5
}
